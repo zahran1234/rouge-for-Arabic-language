{
  "cells": [
    {
      "cell_type": "code",
      "execution_count": 1,
      "metadata": {
        "colab": {
          "base_uri": "https://localhost:8080/"
        },
        "id": "wUdyo5uDnPw1",
        "outputId": "f621acae-49f0-4147-983a-32dd354ff0a2"
      },
      "outputs": [
        {
          "output_type": "stream",
          "name": "stderr",
          "text": [
            "[nltk_data] Downloading package punkt to /root/nltk_data...\n",
            "[nltk_data]   Unzipping tokenizers/punkt.zip.\n"
          ]
        },
        {
          "output_type": "execute_result",
          "data": {
            "text/plain": [
              "True"
            ]
          },
          "metadata": {},
          "execution_count": 1
        }
      ],
      "source": [
        "\n",
        "import nltk\n",
        "from nltk.tokenize import sent_tokenize,word_tokenize\n",
        "nltk.download('punkt')\n"
      ]
    },
    {
      "cell_type": "code",
      "execution_count": 2,
      "metadata": {
        "colab": {
          "base_uri": "https://localhost:8080/"
        },
        "id": "J04rxgW4bOhk",
        "outputId": "8ec98d55-8c1f-4659-af12-a3fef2293f63"
      },
      "outputs": [
        {
          "output_type": "stream",
          "name": "stdout",
          "text": [
            "\u001b[31mERROR: Could not open requirements file: [Errno 2] No such file or directory: 'rouge/requirements.txt'\u001b[0m\u001b[31m\n",
            "\u001b[0mLooking in indexes: https://pypi.org/simple, https://us-python.pkg.dev/colab-wheels/public/simple/\n",
            "Collecting rouge-score\n",
            "  Downloading rouge_score-0.1.2.tar.gz (17 kB)\n",
            "  Preparing metadata (setup.py) ... \u001b[?25l\u001b[?25hdone\n",
            "Requirement already satisfied: absl-py in /usr/local/lib/python3.10/dist-packages (from rouge-score) (1.4.0)\n",
            "Requirement already satisfied: nltk in /usr/local/lib/python3.10/dist-packages (from rouge-score) (3.8.1)\n",
            "Requirement already satisfied: numpy in /usr/local/lib/python3.10/dist-packages (from rouge-score) (1.22.4)\n",
            "Requirement already satisfied: six>=1.14.0 in /usr/local/lib/python3.10/dist-packages (from rouge-score) (1.16.0)\n",
            "Requirement already satisfied: click in /usr/local/lib/python3.10/dist-packages (from nltk->rouge-score) (8.1.3)\n",
            "Requirement already satisfied: joblib in /usr/local/lib/python3.10/dist-packages (from nltk->rouge-score) (1.2.0)\n",
            "Requirement already satisfied: regex>=2021.8.3 in /usr/local/lib/python3.10/dist-packages (from nltk->rouge-score) (2022.10.31)\n",
            "Requirement already satisfied: tqdm in /usr/local/lib/python3.10/dist-packages (from nltk->rouge-score) (4.65.0)\n",
            "Building wheels for collected packages: rouge-score\n",
            "  Building wheel for rouge-score (setup.py) ... \u001b[?25l\u001b[?25hdone\n",
            "  Created wheel for rouge-score: filename=rouge_score-0.1.2-py3-none-any.whl size=24934 sha256=0ff95df065bdea00428c4e02fadeed717429301bac4fee9dc1a5fb33f93a9aad\n",
            "  Stored in directory: /root/.cache/pip/wheels/5f/dd/89/461065a73be61a532ff8599a28e9beef17985c9e9c31e541b4\n",
            "Successfully built rouge-score\n",
            "Installing collected packages: rouge-score\n",
            "Successfully installed rouge-score-0.1.2\n"
          ]
        }
      ],
      "source": [
        "!pip install -r rouge/requirements.txt\n",
        "!pip install rouge-score\n",
        "import re \n",
        "from rouge_score import rouge_scorer"
      ]
    },
    {
      "cell_type": "markdown",
      "source": [
        "# **rouge funcation to evaluate the summarization **"
      ],
      "metadata": {
        "id": "7w3vlv5D-0yj"
      }
    },
    {
      "cell_type": "code",
      "execution_count": 35,
      "metadata": {
        "id": "_kslmWbPa_e6"
      },
      "outputs": [],
      "source": [
        "def rouge(re,summary):\n",
        "  re=word_tokenize(re)\n",
        "  summary=word_tokenize(summary)\n",
        "  new_re=[]\n",
        "  new_summary=[]\n",
        "  x=0\n",
        "  for i in re:\n",
        "    if re.count(i)>1:\n",
        "      new_re.append(str(re.index(i)))\n",
        "      x=x+1\n",
        "    else:\n",
        "      new_re.append(str(x))\n",
        "      x=x+1\n",
        "  for i in summary :\n",
        "    if i in re:\n",
        "      new_summary.append(str(re.index(i))) \n",
        "    else :\n",
        "      new_summary.append('_') \n",
        "  x=\" \".join(new_summary)\n",
        "  y=\" \".join(new_re)\n",
        "\n",
        "  #you change the n-gram i have used n-gram from 1 to 7 \n",
        "  scorer = rouge_scorer.RougeScorer(['rouge1', 'rouge2','rouge3','rouge4','rouge5','rouge6','rouge7','rougeL'])\n",
        "  scores = scorer.score(x,y)\n",
        "  return scores"
      ]
    },
    {
      "cell_type": "markdown",
      "source": [
        "# **expert text**"
      ],
      "metadata": {
        "id": "mKtigx0BFNaG"
      }
    },
    {
      "cell_type": "code",
      "source": [
        "expert= open(\"path of expert text\", encoding='utf-8')\n",
        "expert=expert.read()"
      ],
      "metadata": {
        "id": "x2oD40E9Ew0B"
      },
      "execution_count": 23,
      "outputs": []
    },
    {
      "cell_type": "markdown",
      "source": [
        "# **summary text**"
      ],
      "metadata": {
        "id": "8QsOUvDKFUu5"
      }
    },
    {
      "cell_type": "code",
      "source": [
        "system_summary= open(\"path of summary text \", encoding='utf-8')\n",
        "system_summary=system_summary.read()"
      ],
      "metadata": {
        "id": "Zsg3eXy-E9qZ"
      },
      "execution_count": 24,
      "outputs": []
    },
    {
      "cell_type": "code",
      "execution_count": 36,
      "metadata": {
        "colab": {
          "base_uri": "https://localhost:8080/"
        },
        "id": "8ILXKNXSYsj8",
        "outputId": "8f2b6fd5-555c-4640-ae3e-00992053cb24"
      },
      "outputs": [
        {
          "output_type": "execute_result",
          "data": {
            "text/plain": [
              "{'rouge1': Score(precision=1.0, recall=1.0, fmeasure=1.0),\n",
              " 'rouge2': Score(precision=1.0, recall=1.0, fmeasure=1.0),\n",
              " 'rouge3': Score(precision=1.0, recall=1.0, fmeasure=1.0),\n",
              " 'rouge4': Score(precision=1.0, recall=1.0, fmeasure=1.0),\n",
              " 'rouge5': Score(precision=1.0, recall=1.0, fmeasure=1.0),\n",
              " 'rouge6': Score(precision=1.0, recall=1.0, fmeasure=1.0),\n",
              " 'rouge7': Score(precision=1.0, recall=1.0, fmeasure=1.0),\n",
              " 'rougeL': Score(precision=1.0, recall=1.0, fmeasure=1.0)}"
            ]
          },
          "metadata": {},
          "execution_count": 36
        }
      ],
      "source": [
        "rouge(expert,system_summary)\n"
      ]
    }
  ],
  "metadata": {
    "colab": {
      "provenance": []
    },
    "kernelspec": {
      "display_name": "Python 3",
      "name": "python3"
    },
    "language_info": {
      "name": "python"
    }
  },
  "nbformat": 4,
  "nbformat_minor": 0
}